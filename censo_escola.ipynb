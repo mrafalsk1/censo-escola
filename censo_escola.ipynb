{
 "cells": [
  {
   "cell_type": "code",
   "execution_count": 1,
   "id": "5445be4e-94f0-4627-a54e-42bb704db3e7",
   "metadata": {},
   "outputs": [
    {
     "name": "stdout",
     "output_type": "stream",
     "text": [
      "hello world\n"
     ]
    }
   ],
   "source": [
    "print(\"hello world\")"
   ]
  },
  {
   "cell_type": "code",
   "execution_count": 10,
   "id": "3cde12fc-3849-4658-b2ac-0b169fdd09ab",
   "metadata": {},
   "outputs": [
    {
     "name": "stderr",
     "output_type": "stream",
     "text": [
      "C:\\Users\\Matheus Rafalski\\AppData\\Local\\Temp\\ipykernel_14396\\3332641533.py:42: DtypeWarning: Columns (27) have mixed types. Specify dtype option on import or set low_memory=False.\n",
      "  df_school_census_final = pd.read_csv(\"data/microdados_ed_basica_2022/dados/microdados_ed_basica_2022.csv\",encoding=\"ISO-8859-1\", sep = ';')\n"
     ]
    },
    {
     "name": "stdout",
     "output_type": "stream",
     "text": [
      "2012\n"
     ]
    },
    {
     "name": "stderr",
     "output_type": "stream",
     "text": [
      "C:\\Users\\Matheus Rafalski\\AppData\\Local\\Temp\\ipykernel_14396\\3332641533.py:48: DtypeWarning: Columns (27) have mixed types. Specify dtype option on import or set low_memory=False.\n",
      "  df_current = pd.read_csv(csv_file,encoding=\"ISO-8859-1\", sep = ';')\n"
     ]
    },
    {
     "name": "stdout",
     "output_type": "stream",
     "text": [
      "2013\n"
     ]
    },
    {
     "name": "stderr",
     "output_type": "stream",
     "text": [
      "C:\\Users\\Matheus Rafalski\\AppData\\Local\\Temp\\ipykernel_14396\\3332641533.py:48: DtypeWarning: Columns (27) have mixed types. Specify dtype option on import or set low_memory=False.\n",
      "  df_current = pd.read_csv(csv_file,encoding=\"ISO-8859-1\", sep = ';')\n"
     ]
    },
    {
     "name": "stdout",
     "output_type": "stream",
     "text": [
      "2014\n"
     ]
    },
    {
     "name": "stderr",
     "output_type": "stream",
     "text": [
      "C:\\Users\\Matheus Rafalski\\AppData\\Local\\Temp\\ipykernel_14396\\3332641533.py:48: DtypeWarning: Columns (27) have mixed types. Specify dtype option on import or set low_memory=False.\n",
      "  df_current = pd.read_csv(csv_file,encoding=\"ISO-8859-1\", sep = ';')\n"
     ]
    },
    {
     "name": "stdout",
     "output_type": "stream",
     "text": [
      "2015\n"
     ]
    },
    {
     "name": "stderr",
     "output_type": "stream",
     "text": [
      "C:\\Users\\Matheus Rafalski\\AppData\\Local\\Temp\\ipykernel_14396\\3332641533.py:48: DtypeWarning: Columns (27) have mixed types. Specify dtype option on import or set low_memory=False.\n",
      "  df_current = pd.read_csv(csv_file,encoding=\"ISO-8859-1\", sep = ';')\n"
     ]
    },
    {
     "name": "stdout",
     "output_type": "stream",
     "text": [
      "2016\n"
     ]
    },
    {
     "name": "stderr",
     "output_type": "stream",
     "text": [
      "C:\\Users\\Matheus Rafalski\\AppData\\Local\\Temp\\ipykernel_14396\\3332641533.py:48: DtypeWarning: Columns (27) have mixed types. Specify dtype option on import or set low_memory=False.\n",
      "  df_current = pd.read_csv(csv_file,encoding=\"ISO-8859-1\", sep = ';')\n"
     ]
    },
    {
     "name": "stdout",
     "output_type": "stream",
     "text": [
      "2017\n"
     ]
    },
    {
     "name": "stderr",
     "output_type": "stream",
     "text": [
      "C:\\Users\\Matheus Rafalski\\AppData\\Local\\Temp\\ipykernel_14396\\3332641533.py:48: DtypeWarning: Columns (27) have mixed types. Specify dtype option on import or set low_memory=False.\n",
      "  df_current = pd.read_csv(csv_file,encoding=\"ISO-8859-1\", sep = ';')\n"
     ]
    },
    {
     "name": "stdout",
     "output_type": "stream",
     "text": [
      "2018\n"
     ]
    },
    {
     "name": "stderr",
     "output_type": "stream",
     "text": [
      "C:\\Users\\Matheus Rafalski\\AppData\\Local\\Temp\\ipykernel_14396\\3332641533.py:48: DtypeWarning: Columns (27) have mixed types. Specify dtype option on import or set low_memory=False.\n",
      "  df_current = pd.read_csv(csv_file,encoding=\"ISO-8859-1\", sep = ';')\n"
     ]
    },
    {
     "name": "stdout",
     "output_type": "stream",
     "text": [
      "2019\n"
     ]
    },
    {
     "name": "stderr",
     "output_type": "stream",
     "text": [
      "C:\\Users\\Matheus Rafalski\\AppData\\Local\\Temp\\ipykernel_14396\\3332641533.py:48: DtypeWarning: Columns (27) have mixed types. Specify dtype option on import or set low_memory=False.\n",
      "  df_current = pd.read_csv(csv_file,encoding=\"ISO-8859-1\", sep = ';')\n"
     ]
    },
    {
     "name": "stdout",
     "output_type": "stream",
     "text": [
      "2020\n"
     ]
    },
    {
     "name": "stderr",
     "output_type": "stream",
     "text": [
      "C:\\Users\\Matheus Rafalski\\AppData\\Local\\Temp\\ipykernel_14396\\3332641533.py:48: DtypeWarning: Columns (27) have mixed types. Specify dtype option on import or set low_memory=False.\n",
      "  df_current = pd.read_csv(csv_file,encoding=\"ISO-8859-1\", sep = ';')\n"
     ]
    },
    {
     "name": "stdout",
     "output_type": "stream",
     "text": [
      "2021\n"
     ]
    },
    {
     "name": "stderr",
     "output_type": "stream",
     "text": [
      "C:\\Users\\Matheus Rafalski\\AppData\\Local\\Temp\\ipykernel_14396\\3332641533.py:48: DtypeWarning: Columns (27) have mixed types. Specify dtype option on import or set low_memory=False.\n",
      "  df_current = pd.read_csv(csv_file,encoding=\"ISO-8859-1\", sep = ';')\n"
     ]
    }
   ],
   "source": [
    "\n",
    "import pandas as pd\n",
    "import numpy as np\n",
    "import os\n",
    "\n",
    "\n",
    "non_value_columns = np.array([\n",
    "    {\"name\": 'DT_ANO_LETIVO_INICIO'},\n",
    "    {\"name\": 'DT_ANO_LETIVO_TERMINO'},\n",
    "    {\"name\": 'NO_ENTIDADE'},\n",
    "    {\"name\": 'NO_MUNICIPIO'},\n",
    "    {\"name\": 'SG_UF'},\n",
    "    {\"name\": 'NO_REGIAO'},\n",
    "    {\"name\": 'NU_ANO_CENSO'},   \n",
    "    {\"name\": \"DS_ENDERECO\"},\n",
    "    {\"name\": \"NU_ENDERECO\"},\n",
    "    {\"name\": \"DS_COMPLEMENTO\"},\n",
    "    {\"name\": \"NO_BAIRRO\"},\n",
    "    {\"name\": \"NU_DDD\"},\n",
    "    {\"name\": \"NU_TELEFONE\"},\n",
    "    {\"name\": \"TP_DEPENDENCIA\"},\n",
    "    {\"name\":\"TP_SITUACAO_FUNCIONAMENTO\"},\n",
    "    { \"name\":\"TP_CATEGORIA_ESCOLA_PRIVADA\"},\n",
    "    { \"name\":\"TP_LOCALIZACAO\"},\n",
    "    {\"name\":\"IN_COZINHA\"},\n",
    "    {\"name\":\"IN_ESGOTO_INEXISTENTE\"},\n",
    "    {\"name\":\"IN_ENERGIA_INEXISTENTE\"},\n",
    "    {\"name\":\"IN_AREA_VERDE\"},\n",
    "    {\"name\":\"IN_BANHEIRO\"},\n",
    "    {\"name\":\"IN_DESPENSA\"},\n",
    "    {\"name\":\"IN_SECRETARIA\"},\n",
    "    {\"name\":\"IN_TRATAMENTO_LIXO_INEXISTENTE\"},\n",
    "    {\"name\":\"IN_REFEITORIO\"},\n",
    "    {\"name\":\"TP_DEPENDENCIA\"},\n",
    "    {\"name\":\"IN_BIBLIOTECA\"}\n",
    "])\n",
    "columns = [x['name'] for x in non_value_columns]\n",
    "\n",
    "\n",
    "\n",
    "\n",
    "df_school_census_final = pd.read_csv(\"data/microdados_ed_basica_2022/dados/microdados_ed_basica_2022.csv\",encoding=\"ISO-8859-1\", sep = ';')\n",
    "df_school_census_final = df_school_census_final[columns]\n",
    "\n",
    "for year in range(2012,2022):\n",
    "    csv_file = f'data/microdados_ed_basica_{year}/dados/microdados_ed_basica_{year}.csv'\n",
    "    df_current = pd.read_csv(csv_file,encoding=\"ISO-8859-1\", sep = ';')\n",
    "    df_current = df_current[columns]\n",
    "    df_school_census_final = pd.concat([df_school_census_final,df_current])\n",
    "    \n",
    "#df_school_census_final.to_csv(r'C:\\Users\\Matheus Rafalski\\Downloads\\export_dataframe.csv', index=False)\n",
    "\n",
    "\n",
    "#df_school_census_columns = pd.read_csv(\"Downloads/export_dataframe.csv\",encoding=\"utf8\", sep = ',')\n",
    "df_school_census_columns = df_school_census_final\n",
    "\n",
    "columns = np.array([\n",
    "    {\"name\": 'IN_COZINHA', \"1\": 80, \"0\":0},\n",
    "    {\"name\": 'IN_BIBLIOTECA', \"1\": 100, \"0\":0},\n",
    "    {\"name\": 'IN_ESGOTO_INEXISTENTE', \"1\": 0, \"0\":100},\n",
    "    {\"name\": 'IN_ENERGIA_INEXISTENTE', \"1\": 0, \"0\":100},\n",
    "    {\"name\": 'IN_AREA_VERDE', \"1\": 80, \"0\":0},\n",
    "    {\"name\": 'IN_BANHEIRO', \"1\": 100, \"0\":0},\n",
    "    {\"name\": 'IN_DESPENSA', \"1\": 80, \"0\":0},\n",
    "    {\"name\": 'IN_SECRETARIA', \"1\": 100, \"0\":0},\n",
    "    {\"name\": 'IN_TRATAMENTO_LIXO_INEXISTENTE', \"1\": 0, \"0\":80},\n",
    "    {\"name\": 'IN_REFEITORIO', \"1\": 80, \"0\":0},\n",
    "])\n",
    "\n",
    "result = np.concatenate((columns, non_value_columns))\n",
    "\n",
    "\n",
    "df_school_census_columns.dropna(axis=0, subset=['DT_ANO_LETIVO_INICIO'], inplace=True)\n",
    "df_school_census_columns = df_school_census_columns.replace('',np.nan)\n",
    "df_school_census_columns = df_school_census_columns[map(lambda column: column['name'], non_value_columns)]\n",
    "df_school_census_columns = df_school_census_columns[df_school_census_columns[\"DT_ANO_LETIVO_INICIO\"] != \"0\"]\n",
    "\n",
    "\n",
    "df_school_census_columns = df_school_census_columns.fillna(value=df_school_census_columns.mode().iloc[0])\n",
    "# Iterando sobre as colunas do dataframe\n",
    "for column in columns:\n",
    "    col = column['name']\n",
    "    df_school_census_columns[col] = df_school_census_columns[col].astype(int)\n",
    "\n",
    "def transform_situacao_funcionamento(x):\n",
    "    if x == 1:\n",
    "        return \"Ativa\"\n",
    "    elif x == 2:\n",
    "        return \"Paralisada\"\n",
    "    else: \n",
    "        return \"Extinta\"\n",
    "    \n",
    "\n",
    "df_school_census_columns[\"TP_SITUACAO_FUNCIONAMENTO\"] = df_school_census_columns[\"TP_SITUACAO_FUNCIONAMENTO\"].apply(transform_situacao_funcionamento)\n",
    "def transform_localizacao(x):\n",
    "    if x == 1:\n",
    "        return \"Urbana\"\n",
    "    elif x == 2:\n",
    "        return \"Rural\"\n",
    "    \n",
    "\n",
    "df_school_census_columns[\"TP_LOCALIZACAO\"] = df_school_census_columns[\"TP_LOCALIZACAO\"].apply(transform_localizacao)\n",
    "\n",
    "def transform_categoria_escola(x):\n",
    "    if x == 1:\n",
    "        return \"Particular\"\n",
    "    elif x == 2:\n",
    "        return \"Comunitária\"\n",
    "    elif x == 3:\n",
    "        return \"Confessional\"\n",
    "    elif x == 4:\n",
    "        return \"Filantrópica\"\n",
    "    else:\n",
    "        return \"Pública\"\n",
    "\n",
    "df_school_census_columns[\"TP_CATEGORIA_ESCOLA_PRIVADA\"] = df_school_census_columns[\"TP_CATEGORIA_ESCOLA_PRIVADA\"].apply(transform_categoria_escola)\n",
    "\n",
    "def transform_dependencia(x):\n",
    "    if x.eq(1).any():\n",
    "        return \"Federal\"\n",
    "    elif x.eq(2).any():\n",
    "        return \"Estadual\"\n",
    "    elif x.eq(3).any():\n",
    "        return \"Municipal\"\n",
    "    elif x.eq(4).any():\n",
    "        return \"Privada\"\n",
    "    else:\n",
    "        return x\n",
    "\n",
    "df_school_census_columns[\"TP_DEPENDENCIA\"] = df_school_census_columns[\"TP_DEPENDENCIA\"].apply(transform_dependencia)\n",
    "\n",
    "\n",
    "\n",
    "\n",
    "def transform(x,column):\n",
    "    x_object = column\n",
    "    \n",
    "    if x == 1:\n",
    "        return  x_object['1']\n",
    "    elif x == 0:\n",
    "        return  x_object['0']\n",
    "    else:\n",
    "        return x\n",
    "\n",
    "# apply the function to each column using apply()\n",
    "\n",
    "for i in columns:\n",
    "    df_school_census_columns[i['name']] = df_school_census_columns[i['name']].apply(transform, column=i)\n",
    "\n",
    "print(\"Dataframe resultante:\")\n",
    "columns_name= [x['name'] for x in columns]\n",
    "\n",
    "estrutural_columns = df_school_census_columns[map(lambda column: column, columns_name)]\n",
    "estrutural_columns = estrutural_columns.assign(total=estrutural_columns.sum(axis=1))\n",
    "df_school_census_columns['total'] = estrutural_columns['total']\n",
    "df_school_census_columns.drop(columns_name, axis=1, inplace=True)\n",
    "\n",
    "# merge pib csv in df_school_census and then removce unused columns and apply etl\n",
    "df_pib_cities = pd.read_csv(\"./data/pib_cities.csv\")\n",
    "df = pd.merge(df_school_census_columns,df_pib_cities, on=[])\n",
    "\n",
    "\n",
    "df_school_census_columns.columns.values[1] = \"Região\"\n",
    "df_school_census_columns.columns.values[2] = \"Sigla\"\n",
    "df_school_census_columns.columns.values[3] = \"Estado\"\n",
    "df_school_census_columns.columns.values[4] = \"Município\"\n",
    "df_school_census_columns.columns.values[7] = \"Escola\"\n",
    "df_school_census_columns.columns.values[8] = \"Categoria\"\n",
    "\n",
    "def create_structure(x):\n",
    "    if x >= 800:\n",
    "        return \"Ótima\"\n",
    "    elif (x >= 600) & (x < 800):\n",
    "         return \"Boa\"\n",
    "    elif (x >= 400) & (x < 600):\n",
    "        return \"Média\"\n",
    "    elif (x >= 200) & (x < 400):\n",
    "        return \"Ruim\"\n",
    "    elif (x >= 0) & (x < 200):\n",
    "        return \"Precária\"\n",
    "    \n",
    "df_school_census_columns[\"Estrutura\"] = df_school_census_columns[\"total\"].apply(create_structure)\n",
    "\n",
    "\n",
    "\n",
    "\n",
    "#df_school_census_columns = df_school_census_columns.dropna(axis=0, subset=['DT_ANO_LETIVO_INICIO'])"
   ]
  },
  {
   "cell_type": "code",
   "execution_count": null,
   "id": "ebc33d68",
   "metadata": {},
   "outputs": [],
   "source": []
  },
  {
   "cell_type": "code",
   "execution_count": 2,
   "id": "f6c74175-ee11-4a4b-a044-997ad302a3a3",
   "metadata": {},
   "outputs": [
    {
     "ename": "NameError",
     "evalue": "name 'non_value_columns' is not defined",
     "output_type": "error",
     "traceback": [
      "\u001b[1;31m---------------------------------------------------------------------------\u001b[0m",
      "\u001b[1;31mNameError\u001b[0m                                 Traceback (most recent call last)",
      "Cell \u001b[1;32mIn[2], line 3\u001b[0m\n\u001b[0;32m      1\u001b[0m \u001b[38;5;28;01mimport\u001b[39;00m \u001b[38;5;21;01mpandas\u001b[39;00m \u001b[38;5;28;01mas\u001b[39;00m \u001b[38;5;21;01mpd\u001b[39;00m\n\u001b[0;32m      2\u001b[0m df_school_census_columns \u001b[38;5;241m=\u001b[39m pd\u001b[38;5;241m.\u001b[39mread_csv(\u001b[38;5;124m\"\u001b[39m\u001b[38;5;124mDownloads/export_dataframe.csv\u001b[39m\u001b[38;5;124m\"\u001b[39m,encoding\u001b[38;5;241m=\u001b[39m\u001b[38;5;124m\"\u001b[39m\u001b[38;5;124mutf8\u001b[39m\u001b[38;5;124m\"\u001b[39m, sep \u001b[38;5;241m=\u001b[39m \u001b[38;5;124m'\u001b[39m\u001b[38;5;124m,\u001b[39m\u001b[38;5;124m'\u001b[39m)\n\u001b[1;32m----> 3\u001b[0m df_school_census_columns \u001b[38;5;241m=\u001b[39m df_school_census_columns[\u001b[38;5;28mmap\u001b[39m(\u001b[38;5;28;01mlambda\u001b[39;00m column: column[\u001b[38;5;124m'\u001b[39m\u001b[38;5;124mname\u001b[39m\u001b[38;5;124m'\u001b[39m], \u001b[43mnon_value_columns\u001b[49m)]\n\u001b[0;32m      4\u001b[0m df_school_census_columns \u001b[38;5;241m=\u001b[39m df_school_census_columns\u001b[38;5;241m.\u001b[39mreplace(\u001b[38;5;124m'\u001b[39m\u001b[38;5;124m'\u001b[39m,np\u001b[38;5;241m.\u001b[39mnan)\n\u001b[0;32m      5\u001b[0m df_school_census_columns\u001b[38;5;241m.\u001b[39mdropna(axis\u001b[38;5;241m=\u001b[39m\u001b[38;5;241m0\u001b[39m, subset\u001b[38;5;241m=\u001b[39m[\u001b[38;5;124m'\u001b[39m\u001b[38;5;124mDT_ANO_LETIVO_INICIO\u001b[39m\u001b[38;5;124m'\u001b[39m], inplace\u001b[38;5;241m=\u001b[39m\u001b[38;5;28;01mTrue\u001b[39;00m)\n",
      "\u001b[1;31mNameError\u001b[0m: name 'non_value_columns' is not defined"
     ]
    }
   ],
   "source": [
    "# import pandas as pd\n",
    "# df_school_census_columns = pd.read_csv(\"Downloads/export_dataframe.csv\",encoding=\"utf8\", sep = ',')\n",
    "\n",
    "# df_school_census_columns.to_csv(r'C:\\Users\\Matheus Rafalski\\Downloads\\csv_escolas.csv', index=False)\n",
    "# df_school_census_columns"
   ]
  },
  {
   "cell_type": "code",
   "execution_count": 32,
   "id": "80790687-edac-47f4-a82e-faa7ee5fa4c6",
   "metadata": {},
   "outputs": [],
   "source": [
    "df_school_census_columns.drop(a, axis=1, inplace=True)"
   ]
  },
  {
   "cell_type": "code",
   "execution_count": 61,
   "id": "32e1f61a-d163-4a85-b3e9-b31a36e5ae5a",
   "metadata": {},
   "outputs": [],
   "source": [
    "df_school_census_columns = df_school_census_columns.sort_values(by='total',ascending=False)\n"
   ]
  },
  {
   "cell_type": "code",
   "execution_count": 57,
   "id": "e4c9c07d",
   "metadata": {},
   "outputs": [],
   "source": [
    "import pandas as pd\n",
    "import chardet\n",
    "# with open('./data/pib_cities.csv', 'rb') as f:\n",
    "#     enc = chardet.detect(f.read())\n",
    "\n",
    "# print(enc)\n",
    "df_pib_cities = pd.read_excel(\"./data/pib_cities.xlsx\")\n",
    "\n",
    "df = df_pib_cities"
   ]
  },
  {
   "cell_type": "code",
   "execution_count": 69,
   "id": "eac87eef",
   "metadata": {},
   "outputs": [],
   "source": [
    "df_pib_cities = df"
   ]
  },
  {
   "cell_type": "code",
   "execution_count": 70,
   "id": "c8aee877",
   "metadata": {},
   "outputs": [
    {
     "data": {
      "text/html": [
       "<div>\n",
       "<style scoped>\n",
       "    .dataframe tbody tr th:only-of-type {\n",
       "        vertical-align: middle;\n",
       "    }\n",
       "\n",
       "    .dataframe tbody tr th {\n",
       "        vertical-align: top;\n",
       "    }\n",
       "\n",
       "    .dataframe thead th {\n",
       "        text-align: right;\n",
       "    }\n",
       "</style>\n",
       "<table border=\"1\" class=\"dataframe\">\n",
       "  <thead>\n",
       "    <tr style=\"text-align: right;\">\n",
       "      <th></th>\n",
       "      <th>Ano</th>\n",
       "      <th>Município</th>\n",
       "      <th>PIB</th>\n",
       "    </tr>\n",
       "  </thead>\n",
       "  <tbody>\n",
       "    <tr>\n",
       "      <th>0</th>\n",
       "      <td>2010</td>\n",
       "      <td>Alta Floresta D'Oeste</td>\n",
       "      <td>2.620769e+05</td>\n",
       "    </tr>\n",
       "    <tr>\n",
       "      <th>1</th>\n",
       "      <td>2010</td>\n",
       "      <td>Ariquemes</td>\n",
       "      <td>1.364694e+06</td>\n",
       "    </tr>\n",
       "    <tr>\n",
       "      <th>2</th>\n",
       "      <td>2010</td>\n",
       "      <td>Cabixi</td>\n",
       "      <td>6.961111e+04</td>\n",
       "    </tr>\n",
       "    <tr>\n",
       "      <th>3</th>\n",
       "      <td>2010</td>\n",
       "      <td>Cacoal</td>\n",
       "      <td>1.186494e+06</td>\n",
       "    </tr>\n",
       "    <tr>\n",
       "      <th>4</th>\n",
       "      <td>2010</td>\n",
       "      <td>Cerejeiras</td>\n",
       "      <td>2.220212e+05</td>\n",
       "    </tr>\n",
       "    <tr>\n",
       "      <th>...</th>\n",
       "      <td>...</td>\n",
       "      <td>...</td>\n",
       "      <td>...</td>\n",
       "    </tr>\n",
       "    <tr>\n",
       "      <th>61250</th>\n",
       "      <td>2020</td>\n",
       "      <td>Vianópolis</td>\n",
       "      <td>5.873130e+05</td>\n",
       "    </tr>\n",
       "    <tr>\n",
       "      <th>61251</th>\n",
       "      <td>2020</td>\n",
       "      <td>Vicentinópolis</td>\n",
       "      <td>4.185569e+05</td>\n",
       "    </tr>\n",
       "    <tr>\n",
       "      <th>61252</th>\n",
       "      <td>2020</td>\n",
       "      <td>Vila Boa</td>\n",
       "      <td>1.218872e+05</td>\n",
       "    </tr>\n",
       "    <tr>\n",
       "      <th>61253</th>\n",
       "      <td>2020</td>\n",
       "      <td>Vila Propício</td>\n",
       "      <td>2.184735e+05</td>\n",
       "    </tr>\n",
       "    <tr>\n",
       "      <th>61254</th>\n",
       "      <td>2020</td>\n",
       "      <td>Brasília</td>\n",
       "      <td>2.658473e+08</td>\n",
       "    </tr>\n",
       "  </tbody>\n",
       "</table>\n",
       "<p>61255 rows × 3 columns</p>\n",
       "</div>"
      ],
      "text/plain": [
       "        Ano              Município           PIB\n",
       "0      2010  Alta Floresta D'Oeste  2.620769e+05\n",
       "1      2010              Ariquemes  1.364694e+06\n",
       "2      2010                 Cabixi  6.961111e+04\n",
       "3      2010                 Cacoal  1.186494e+06\n",
       "4      2010             Cerejeiras  2.220212e+05\n",
       "...     ...                    ...           ...\n",
       "61250  2020             Vianópolis  5.873130e+05\n",
       "61251  2020         Vicentinópolis  4.185569e+05\n",
       "61252  2020               Vila Boa  1.218872e+05\n",
       "61253  2020          Vila Propício  2.184735e+05\n",
       "61254  2020               Brasília  2.658473e+08\n",
       "\n",
       "[61255 rows x 3 columns]"
      ]
     },
     "execution_count": 70,
     "metadata": {},
     "output_type": "execute_result"
    }
   ],
   "source": [
    "\n",
    "df_pib_cities = df_pib_cities.drop(df_pib_cities.columns[[1,2,3,4,5,6,8,9,10,11,12,13,14,15,16,17,18,19,20,21,22,23,24,25,26,27,28,29,30,31,32,33,34,35,36,37,39,40,41,42,43]], axis=1)\n",
    "df_pib_cities.columns.values[1] = \"Município\"\n",
    "df_pib_cities.columns.values[2] = \"PIB\"\n"
   ]
  },
  {
   "cell_type": "code",
   "execution_count": null,
   "id": "d48fbb5b",
   "metadata": {},
   "outputs": [],
   "source": []
  },
  {
   "cell_type": "code",
   "execution_count": null,
   "id": "8ca77e02",
   "metadata": {},
   "outputs": [],
   "source": [
    "df"
   ]
  },
  {
   "cell_type": "code",
   "execution_count": null,
   "id": "b83ebf85",
   "metadata": {},
   "outputs": [],
   "source": [
    "df"
   ]
  },
  {
   "cell_type": "code",
   "execution_count": 49,
   "id": "ee413c55",
   "metadata": {},
   "outputs": [
    {
     "data": {
      "text/html": [
       "<div>\n",
       "<style scoped>\n",
       "    .dataframe tbody tr th:only-of-type {\n",
       "        vertical-align: middle;\n",
       "    }\n",
       "\n",
       "    .dataframe tbody tr th {\n",
       "        vertical-align: top;\n",
       "    }\n",
       "\n",
       "    .dataframe thead th {\n",
       "        text-align: right;\n",
       "    }\n",
       "</style>\n",
       "<table border=\"1\" class=\"dataframe\">\n",
       "  <thead>\n",
       "    <tr style=\"text-align: right;\">\n",
       "      <th></th>\n",
       "      <th>Ano</th>\n",
       "      <th>Nome do Município</th>\n",
       "      <th>Valor adicionado bruto da Agropecuária, \\na preços correntes\\n(R$ 1.000)</th>\n",
       "      <th>Valor adicionado bruto da Indústria,\\na preços correntes\\n(R$ 1.000)</th>\n",
       "      <th>Valor adicionado bruto dos Serviços,\\na preços correntes \\n- exceto Administração, defesa, educação e saúde públicas e seguridade social\\n(R$ 1.000)</th>\n",
       "      <th>Valor adicionado bruto da Administração, defesa, educação e saúde públicas e seguridade social, \\na preços correntes\\n(R$ 1.000)</th>\n",
       "      <th>Valor adicionado bruto total, \\na preços correntes\\n(R$ 1.000)</th>\n",
       "      <th>Impostos, líquidos de subsídios, sobre produtos, \\na preços correntes\\n(R$ 1.000)</th>\n",
       "      <th>Produto Interno Bruto, \\na preços correntes\\n(R$ 1.000)</th>\n",
       "      <th>Valor Total</th>\n",
       "      <th>Produto Interno Bruto per capita, \\na preços correntes\\n(R$ 1,00)</th>\n",
       "      <th>Atividade com maior valor adicionado bruto</th>\n",
       "      <th>Atividade com segundo maior valor adicionado bruto</th>\n",
       "      <th>Atividade com terceiro maior valor adicionado bruto</th>\n",
       "    </tr>\n",
       "  </thead>\n",
       "  <tbody>\n",
       "    <tr>\n",
       "      <th>0</th>\n",
       "      <td>2010</td>\n",
       "      <td>Alta Floresta D'Oeste</td>\n",
       "      <td>69260.391</td>\n",
       "      <td>1.611853e+04</td>\n",
       "      <td>6.249618e+04</td>\n",
       "      <td>9.324466e+04</td>\n",
       "      <td>2.411198e+05</td>\n",
       "      <td>2.095711e+04</td>\n",
       "      <td>2.620769e+05</td>\n",
       "      <td>7.652735e+05</td>\n",
       "      <td>10731.18</td>\n",
       "      <td>Administração, defesa, educação e saúde públic...</td>\n",
       "      <td>Pecuária, inclusive apoio à pecuária</td>\n",
       "      <td>Demais serviços</td>\n",
       "    </tr>\n",
       "    <tr>\n",
       "      <th>1</th>\n",
       "      <td>2010</td>\n",
       "      <td>Ariquemes</td>\n",
       "      <td>73711.643</td>\n",
       "      <td>2.871386e+05</td>\n",
       "      <td>4.949463e+05</td>\n",
       "      <td>3.438677e+05</td>\n",
       "      <td>1.199664e+06</td>\n",
       "      <td>1.650296e+05</td>\n",
       "      <td>1.364694e+06</td>\n",
       "      <td>3.929052e+06</td>\n",
       "      <td>15103.86</td>\n",
       "      <td>Administração, defesa, educação e saúde públic...</td>\n",
       "      <td>Demais serviços</td>\n",
       "      <td>Comércio e reparação de veículos automotores e...</td>\n",
       "    </tr>\n",
       "    <tr>\n",
       "      <th>2</th>\n",
       "      <td>2010</td>\n",
       "      <td>Cabixi</td>\n",
       "      <td>24300.822</td>\n",
       "      <td>3.252506e+03</td>\n",
       "      <td>1.267721e+04</td>\n",
       "      <td>2.517024e+04</td>\n",
       "      <td>6.540077e+04</td>\n",
       "      <td>4.210342e+03</td>\n",
       "      <td>6.961111e+04</td>\n",
       "      <td>2.046230e+05</td>\n",
       "      <td>11033.62</td>\n",
       "      <td>Administração, defesa, educação e saúde públic...</td>\n",
       "      <td>Pecuária, inclusive apoio à pecuária</td>\n",
       "      <td>Demais serviços</td>\n",
       "    </tr>\n",
       "    <tr>\n",
       "      <th>3</th>\n",
       "      <td>2010</td>\n",
       "      <td>Cacoal</td>\n",
       "      <td>95259.203</td>\n",
       "      <td>1.820515e+05</td>\n",
       "      <td>4.654473e+05</td>\n",
       "      <td>2.984543e+05</td>\n",
       "      <td>1.041212e+06</td>\n",
       "      <td>1.452817e+05</td>\n",
       "      <td>1.186494e+06</td>\n",
       "      <td>3.414201e+06</td>\n",
       "      <td>15095.15</td>\n",
       "      <td>Administração, defesa, educação e saúde públic...</td>\n",
       "      <td>Demais serviços</td>\n",
       "      <td>Comércio e reparação de veículos automotores e...</td>\n",
       "    </tr>\n",
       "    <tr>\n",
       "      <th>4</th>\n",
       "      <td>2010</td>\n",
       "      <td>Cerejeiras</td>\n",
       "      <td>28976.415</td>\n",
       "      <td>1.973448e+04</td>\n",
       "      <td>8.072499e+04</td>\n",
       "      <td>6.301827e+04</td>\n",
       "      <td>1.924542e+05</td>\n",
       "      <td>2.956703e+04</td>\n",
       "      <td>2.220212e+05</td>\n",
       "      <td>6.364965e+05</td>\n",
       "      <td>13037.06</td>\n",
       "      <td>Administração, defesa, educação e saúde públic...</td>\n",
       "      <td>Demais serviços</td>\n",
       "      <td>Comércio e reparação de veículos automotores e...</td>\n",
       "    </tr>\n",
       "    <tr>\n",
       "      <th>...</th>\n",
       "      <td>...</td>\n",
       "      <td>...</td>\n",
       "      <td>...</td>\n",
       "      <td>...</td>\n",
       "      <td>...</td>\n",
       "      <td>...</td>\n",
       "      <td>...</td>\n",
       "      <td>...</td>\n",
       "      <td>...</td>\n",
       "      <td>...</td>\n",
       "      <td>...</td>\n",
       "      <td>...</td>\n",
       "      <td>...</td>\n",
       "      <td>...</td>\n",
       "    </tr>\n",
       "    <tr>\n",
       "      <th>61250</th>\n",
       "      <td>2020</td>\n",
       "      <td>Vianópolis</td>\n",
       "      <td>237993.615</td>\n",
       "      <td>3.136187e+04</td>\n",
       "      <td>1.986249e+05</td>\n",
       "      <td>6.865409e+04</td>\n",
       "      <td>5.366345e+05</td>\n",
       "      <td>5.067848e+04</td>\n",
       "      <td>5.873130e+05</td>\n",
       "      <td>1.711260e+06</td>\n",
       "      <td>42019.96</td>\n",
       "      <td>Agricultura, inclusive apoio à agricultura e a...</td>\n",
       "      <td>Demais serviços</td>\n",
       "      <td>Comércio e reparação de veículos automotores e...</td>\n",
       "    </tr>\n",
       "    <tr>\n",
       "      <th>61251</th>\n",
       "      <td>2020</td>\n",
       "      <td>Vicentinópolis</td>\n",
       "      <td>158818.117</td>\n",
       "      <td>7.590880e+04</td>\n",
       "      <td>1.024780e+05</td>\n",
       "      <td>4.797661e+04</td>\n",
       "      <td>3.851815e+05</td>\n",
       "      <td>3.337534e+04</td>\n",
       "      <td>4.185569e+05</td>\n",
       "      <td>1.222295e+06</td>\n",
       "      <td>47171.97</td>\n",
       "      <td>Agricultura, inclusive apoio à agricultura e a...</td>\n",
       "      <td>Demais serviços</td>\n",
       "      <td>Indústrias de transformação</td>\n",
       "    </tr>\n",
       "    <tr>\n",
       "      <th>61252</th>\n",
       "      <td>2020</td>\n",
       "      <td>Vila Boa</td>\n",
       "      <td>28357.518</td>\n",
       "      <td>2.283675e+04</td>\n",
       "      <td>2.954692e+04</td>\n",
       "      <td>3.357719e+04</td>\n",
       "      <td>1.143184e+05</td>\n",
       "      <td>7.568798e+03</td>\n",
       "      <td>1.218872e+05</td>\n",
       "      <td>3.580927e+05</td>\n",
       "      <td>19310.39</td>\n",
       "      <td>Administração, defesa, educação e saúde públic...</td>\n",
       "      <td>Demais serviços</td>\n",
       "      <td>Indústrias de transformação</td>\n",
       "    </tr>\n",
       "    <tr>\n",
       "      <th>61253</th>\n",
       "      <td>2020</td>\n",
       "      <td>Vila Propício</td>\n",
       "      <td>115113.532</td>\n",
       "      <td>2.693973e+04</td>\n",
       "      <td>3.481211e+04</td>\n",
       "      <td>3.287036e+04</td>\n",
       "      <td>2.097357e+05</td>\n",
       "      <td>8.737748e+03</td>\n",
       "      <td>2.184735e+05</td>\n",
       "      <td>6.466827e+05</td>\n",
       "      <td>37142.72</td>\n",
       "      <td>Agricultura, inclusive apoio à agricultura e a...</td>\n",
       "      <td>Administração, defesa, educação e saúde públic...</td>\n",
       "      <td>Demais serviços</td>\n",
       "    </tr>\n",
       "    <tr>\n",
       "      <th>61254</th>\n",
       "      <td>2020</td>\n",
       "      <td>Brasília</td>\n",
       "      <td>1623976.909</td>\n",
       "      <td>1.094247e+07</td>\n",
       "      <td>1.165477e+08</td>\n",
       "      <td>1.112670e+08</td>\n",
       "      <td>2.403811e+08</td>\n",
       "      <td>2.546623e+07</td>\n",
       "      <td>2.658473e+08</td>\n",
       "      <td>7.720758e+08</td>\n",
       "      <td>87016.16</td>\n",
       "      <td>Administração, defesa, educação e saúde públic...</td>\n",
       "      <td>Demais serviços</td>\n",
       "      <td>Comércio e reparação de veículos automotores e...</td>\n",
       "    </tr>\n",
       "  </tbody>\n",
       "</table>\n",
       "<p>61255 rows × 14 columns</p>\n",
       "</div>"
      ],
      "text/plain": [
       "        Ano  ... Atividade com terceiro maior valor adicionado bruto\n",
       "0      2010  ...                                    Demais serviços \n",
       "1      2010  ...  Comércio e reparação de veículos automotores e... \n",
       "2      2010  ...                                    Demais serviços \n",
       "3      2010  ...  Comércio e reparação de veículos automotores e... \n",
       "4      2010  ...  Comércio e reparação de veículos automotores e... \n",
       "...     ...  ...                                                ... \n",
       "61250  2020  ...  Comércio e reparação de veículos automotores e... \n",
       "61251  2020  ...                        Indústrias de transformação \n",
       "61252  2020  ...                        Indústrias de transformação \n",
       "61253  2020  ...                                    Demais serviços \n",
       "61254  2020  ...  Comércio e reparação de veículos automotores e... \n",
       "\n",
       "[61255 rows x 14 columns]"
      ]
     },
     "execution_count": 49,
     "metadata": {},
     "output_type": "execute_result"
    }
   ],
   "source": [
    "df_pib_cities\n",
    "df_pib_cities = df_pib_cities.drop(df_pib_cities.columns[[2,3,4,5,6,7]], axis=1)\n"
   ]
  },
  {
   "cell_type": "code",
   "execution_count": 52,
   "id": "fe45de7e",
   "metadata": {},
   "outputs": [
    {
     "ename": "IndexError",
     "evalue": "index 7 is out of bounds for axis 0 with size 7",
     "output_type": "error",
     "traceback": [
      "\u001b[1;31m---------------------------------------------------------------------------\u001b[0m",
      "\u001b[1;31mIndexError\u001b[0m                                Traceback (most recent call last)",
      "Cell \u001b[1;32mIn[52], line 1\u001b[0m\n\u001b[1;32m----> 1\u001b[0m df_pib_cities \u001b[39m=\u001b[39m df_pib_cities\u001b[39m.\u001b[39mdrop(df_pib_cities\u001b[39m.\u001b[39;49mcolumns[[\u001b[39m2\u001b[39;49m,\u001b[39m3\u001b[39;49m,\u001b[39m4\u001b[39;49m,\u001b[39m5\u001b[39;49m,\u001b[39m6\u001b[39;49m,\u001b[39m7\u001b[39;49m,\u001b[39m9\u001b[39;49m]], axis\u001b[39m=\u001b[39m\u001b[39m1\u001b[39m)\n\u001b[0;32m      2\u001b[0m df_pib_cities\n",
      "File \u001b[1;32mc:\\Users\\Matheus Rafalski\\anaconda\\lib\\site-packages\\pandas\\core\\indexes\\base.py:5339\u001b[0m, in \u001b[0;36mIndex.__getitem__\u001b[1;34m(self, key)\u001b[0m\n\u001b[0;32m   5336\u001b[0m     \u001b[39melse\u001b[39;00m:\n\u001b[0;32m   5337\u001b[0m         key \u001b[39m=\u001b[39m np\u001b[39m.\u001b[39masarray(key, dtype\u001b[39m=\u001b[39m\u001b[39mbool\u001b[39m)\n\u001b[1;32m-> 5339\u001b[0m result \u001b[39m=\u001b[39m getitem(key)\n\u001b[0;32m   5340\u001b[0m \u001b[39m# Because we ruled out integer above, we always get an arraylike here\u001b[39;00m\n\u001b[0;32m   5341\u001b[0m \u001b[39mif\u001b[39;00m result\u001b[39m.\u001b[39mndim \u001b[39m>\u001b[39m \u001b[39m1\u001b[39m:\n",
      "\u001b[1;31mIndexError\u001b[0m: index 7 is out of bounds for axis 0 with size 7"
     ]
    }
   ],
   "source": [
    "df_pib_cities = df_pib_cities.drop(df_pib_cities.columns[[2,3,4,5,6,7,9]], axis=1)\n",
    "df_pib_cities"
   ]
  },
  {
   "cell_type": "code",
   "execution_count": null,
   "id": "0f953f5e",
   "metadata": {},
   "outputs": [],
   "source": [
    "df_pib_cities = df_pib_cities.drop(df_pib_cities.columns[[2,3,4,5,6,7]], axis=1)\n",
    "df_pib_cities"
   ]
  }
 ],
 "metadata": {
  "kernelspec": {
   "display_name": "Python 3 (ipykernel)",
   "language": "python",
   "name": "python3"
  },
  "language_info": {
   "codemirror_mode": {
    "name": "ipython",
    "version": 3
   },
   "file_extension": ".py",
   "mimetype": "text/x-python",
   "name": "python",
   "nbconvert_exporter": "python",
   "pygments_lexer": "ipython3",
   "version": "3.10.9"
  }
 },
 "nbformat": 4,
 "nbformat_minor": 5
}
